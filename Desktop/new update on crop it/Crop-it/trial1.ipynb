{
 "cells": [
  {
   "cell_type": "code",
   "execution_count": 2,
   "metadata": {},
   "outputs": [],
   "source": [
    "import pandas as pd\n",
    "import numpy as np\n"
   ]
  },
  {
   "cell_type": "code",
   "execution_count": 7,
   "metadata": {},
   "outputs": [
    {
     "name": "stdout",
     "output_type": "stream",
     "text": [
      "rice\n",
      "maize\n",
      "chickpea\n",
      "kidneybeans\n",
      "pigeonpeas\n",
      "mothbeans\n",
      "mungbean\n",
      "blackgram\n",
      "lentil\n",
      "pomegranate\n",
      "banana\n",
      "mango\n",
      "grapes\n",
      "watermelon\n",
      "muskmelon\n",
      "apple\n",
      "orange\n",
      "papaya\n",
      "coconut\n",
      "cotton\n",
      "jute\n",
      "coffee\n"
     ]
    }
   ],
   "source": [
    "a= pd.read_csv('Crop_recommendation.csv')\n",
    "b= list(a['label'].unique())\n",
    "\n",
    "for i in b:\n",
    "    print(i)"
   ]
  },
  {
   "cell_type": "code",
   "execution_count": null,
   "metadata": {},
   "outputs": [],
   "source": [
    "dict = {'rice':'..static/rice.jpeg','maize':'..static/maize.png','chickpea':'..static/chickpea.png','kidneybeans':'..static/kidneybeans.png','pigeonpeas':'..static/pigeonpeas.png',\n",
    "        'mothbeans':'..static/mothbeans.png','mungbean':'..static/mungbean.png','blackgram':'..static/blackgram.png','lentil':'..static/lentil.png','pomegranate':'..static/pomegranate.png',\n",
    "        'banana':'..static/banana.png','mango':'..static/mango.png','grapes':'..static/grapes.png','watermelon':'..static/watermelon.png','muskmelon':'..static/muskmelon.png',\n",
    "        'apple':'..static/apple.png','orange':'..static/orange.png','papaya':'..static/papaya.png','coconut':'..static/coconut.png','cotton':'..static/cotton.png',\n",
    "        'jute':'..static/jute.png','coffee':'..static/coffee.png'}"
   ]
  },
  {
   "cell_type": "code",
   "execution_count": null,
   "metadata": {},
   "outputs": [],
   "source": [
    "b= a[a['label']=='rice']\n",
    "type(b)"
   ]
  },
  {
   "cell_type": "code",
   "execution_count": null,
   "metadata": {},
   "outputs": [],
   "source": [
    "b['K'].min()\n"
   ]
  },
  {
   "cell_type": "code",
   "execution_count": null,
   "metadata": {},
   "outputs": [],
   "source": [
    "b['K'].max()"
   ]
  },
  {
   "cell_type": "code",
   "execution_count": null,
   "metadata": {},
   "outputs": [],
   "source": [
    "dic = {}\n",
    "for i in a['label']:\n",
    "    for index, row in a.iterrows():\n",
    "    # Check if the crop is rice\n",
    "        if row['label'] == i:\n",
    "        # If it is rice, add the data to the dictionary\n",
    "            dic[row['label']] = {\n",
    "                'N': row['N'], \n",
    "                'P': row['P'], \n",
    "                'K': row['K'], \n",
    "            'ph': row['ph'], \n",
    "            'humidity': row['humidity'], \n",
    "            'temperature': row['temperature']\n",
    "        }"
   ]
  },
  {
   "cell_type": "code",
   "execution_count": null,
   "metadata": {},
   "outputs": [],
   "source": [
    "dic"
   ]
  },
  {
   "cell_type": "code",
   "execution_count": null,
   "metadata": {},
   "outputs": [],
   "source": []
  }
 ],
 "metadata": {
  "kernelspec": {
   "display_name": "Python 3",
   "language": "python",
   "name": "python3"
  },
  "language_info": {
   "codemirror_mode": {
    "name": "ipython",
    "version": 3
   },
   "file_extension": ".py",
   "mimetype": "text/x-python",
   "name": "python",
   "nbconvert_exporter": "python",
   "pygments_lexer": "ipython3",
   "version": "3.11.0"
  },
  "orig_nbformat": 4
 },
 "nbformat": 4,
 "nbformat_minor": 2
}
