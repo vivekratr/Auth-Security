{
 "cells": [
  {
   "cell_type": "code",
   "execution_count": null,
   "metadata": {},
   "outputs": [],
   "source": [
    "import pandas as pd\n",
    "import numpy as np\n",
    "a= pd.read_csv('Crop_recommendation.csv')\n",
    "dic = {}\n",
    "for b in a['label']:\n",
    "        i= a[a['label']==b]\n",
    "        Nmin = i['N'].min()\n",
    "        Nmax = i['N'].max()\n",
    "        Pmin = i['P'].min()\n",
    "        Pmax = i['P'].max()\n",
    "        Kmin = i['K'].min()\n",
    "        Kmax = i['K'].max()\n",
    "        phmin= i['ph'].min()\n",
    "        phmax= i['ph'].max()\n",
    "        humidityMin=i['humidity'].min()\n",
    "        humidityMax = i['humidity'].max()\n",
    "        temperatureMin=i['temperature'].min()  \n",
    "        temperatureMax = i['temperature'].max()\n",
    "    # Check if the crop is rice\n",
    "        \n",
    "        # If it is rice, add the data to the dictionary\n",
    "        dic[b] = {\n",
    "                'N': {'min':Nmin,'max':Nmax}, \n",
    "                'P': {'min':Pmin,'max':Pmax}, \n",
    "                'K': {'min':Kmin,'max':Kmax},\n",
    "            'ph': {'min':phmin,'max':phmax}, \n",
    "            'humidity': {'min':humidityMin,'max':humidityMax}, \n",
    "            'temperature': {'min':temperatureMin,'max':temperatureMax}\n",
    "        }"
   ]
  },
  {
   "cell_type": "code",
   "execution_count": null,
   "metadata": {},
   "outputs": [],
   "source": [
    "dic"
   ]
  },
  {
   "cell_type": "code",
   "execution_count": null,
   "metadata": {},
   "outputs": [],
   "source": [
    "for i in dic:\n",
    "    a =dic[i]\n",
    "    print(a['N']['max'])"
   ]
  },
  {
   "cell_type": "code",
   "execution_count": null,
   "metadata": {},
   "outputs": [],
   "source": [
    "for i in dic:\n",
    "    print(i)"
   ]
  },
  {
   "cell_type": "code",
   "execution_count": 3,
   "metadata": {},
   "outputs": [
    {
     "data": {
      "text/plain": [
       "array(['Urea', 'DAP', '14-35-14', '28-28', '17-17-17', '20-20',\n",
       "       '10-26-26'], dtype=object)"
      ]
     },
     "execution_count": 3,
     "metadata": {},
     "output_type": "execute_result"
    }
   ],
   "source": [
    "import pandas as pd\n",
    "c = pd.read_csv('Fertilizer Prediction.csv')\n",
    "c['Fertilizer Name'].unique()"
   ]
  },
  {
   "cell_type": "code",
   "execution_count": null,
   "metadata": {},
   "outputs": [],
   "source": [
    "\n",
    "df = c\n",
    "df = df.drop('Humidity ', axis=1)\n",
    "df = df.drop('Moisture', axis=1)\n",
    "# df = c.drop('Soil Type', axis=1)\n",
    "\n",
    "# write the updated DataFrame back to the CSV file\n",
    "# df.to_csv('Fertilizer Prediction.csv', index=False))\n",
    "print(df)"
   ]
  },
  {
   "cell_type": "code",
   "execution_count": null,
   "metadata": {},
   "outputs": [],
   "source": [
    "import seaborn as sns\n",
    "\n",
    "sns.displot(a[''],height=9)\n"
   ]
  },
  {
   "cell_type": "code",
   "execution_count": null,
   "metadata": {},
   "outputs": [],
   "source": [
    "import plotly.express as plt  \n",
    "import matplotlib.pyplot as plt  \n",
    "%matplotlib inline\n",
    "plt.rcParams[\"figure.figsize\"] = [16,9]\n",
    "a.plot(x='Hours', y='Scores', style='o', color='blue', markersize=10)\n",
    "plt.title('Hours vs Percentage')  \n",
    "plt.xlabel('Hours Studied')  \n",
    "plt.ylabel('Percentage Score')  \n",
    "plt.grid()\n",
    "plt.show()"
   ]
  },
  {
   "attachments": {},
   "cell_type": "markdown",
   "metadata": {},
   "source": [
    "'Urea', 'DAP', '14-35-14', '28-28', '17-17-17', '20-20',\n",
    "       '10-26-26'\n",
    "\n",
    "\n",
    "\n",
    "       dicy = {'Urea':'Urea.png','DAP':'DAP.png','14-35-14':'14-35-14.png','28-28':'28-28.png','17-17-17':'17-17-17.png','20-20':'20-20.png','10-26-26':'10-26-26.png'}"
   ]
  },
  {
   "cell_type": "code",
   "execution_count": null,
   "metadata": {},
   "outputs": [],
   "source": [
    "pip install plotly\n"
   ]
  },
  {
   "cell_type": "code",
   "execution_count": null,
   "metadata": {},
   "outputs": [],
   "source": [
    "a= pd.read_csv('Crop_recommendation.csv')\n",
    "# sns.histplot(a['N'], bins=10)\n",
    "a['N'].max()\n",
    "\n"
   ]
  },
  {
   "cell_type": "code",
   "execution_count": null,
   "metadata": {},
   "outputs": [],
   "source": [
    "import pickle\n",
    "\n",
    "# Load the contents of the .pkl file\n",
    "with open('RandomForest_1.pkl', 'rb') as f:\n",
    "    my_object = pickle.load(f)\n",
    "\n",
    "# Now you can use the loaded object in your code\n",
    "print(my_object)\n"
   ]
  },
  {
   "cell_type": "code",
   "execution_count": null,
   "metadata": {},
   "outputs": [],
   "source": [
    "pip install sklearn"
   ]
  },
  {
   "cell_type": "code",
   "execution_count": null,
   "metadata": {},
   "outputs": [],
   "source": [
    "import seaborn as sb\n",
    "import pandas as pd\n",
    "\n",
    "a = pd.read_csv('Crop_recommendation.csv')\n",
    "sb.set(rc={'figure.figsize':(10,8)}) # set the figure size\n",
    "\n",
    "sb.relplot(x=a.N, y=a.P, data=a, style='label', hue=a.temperature, height=8, aspect=1.5)\n"
   ]
  },
  {
   "cell_type": "code",
   "execution_count": null,
   "metadata": {},
   "outputs": [],
   "source": [
    "import plotly.express as px\n",
    "import pandas as pd\n",
    "\n",
    "# Load data from CSV file\n",
    "df = pd.read_csv('Fertilizer Prediction.csv')\n",
    "\n",
    "# Create scatter plot with colored markers based on temperature\n",
    "fig = px.scatter(df, x='N', y='P', color='crop', symbol='')\n",
    "\n",
    "# Update layout settings\n",
    "fig.update_layout(\n",
    "    title='Crop Recommendation',\n",
    "    xaxis_title='N',\n",
    "    yaxis_title='P',\n",
    "    font=dict(\n",
    "        family='Arial',\n",
    "        size=18,\n",
    "        color='black'\n",
    "    ),\n",
    "    legend=dict(\n",
    "        title='Temperature',\n",
    "        font=dict(\n",
    "            family='Arial',\n",
    "            size=14,\n",
    "            color='black'\n",
    "        )\n",
    "    )\n",
    ")\n",
    "\n",
    "# Show plot\n",
    "fig.show()\n"
   ]
  },
  {
   "cell_type": "code",
   "execution_count": null,
   "metadata": {},
   "outputs": [],
   "source": [
    "dic"
   ]
  },
  {
   "cell_type": "code",
   "execution_count": null,
   "metadata": {},
   "outputs": [],
   "source": [
    "for i in dic:\n",
    "    print(i)"
   ]
  },
  {
   "cell_type": "code",
   "execution_count": null,
   "metadata": {},
   "outputs": [],
   "source": [
    "\n",
    "df = c\n",
    "df = df.drop('Humidity ', axis=1)\n",
    "df = df.drop('Moisture', axis=1)\n",
    "# df = c.drop('Soil Type', axis=1)\n",
    "\n",
    "# write the updated DataFrame back to the CSV file\n",
    "# df.to_csv('Fertilizer Prediction.csv', index=False))\n",
    "print(df)"
   ]
  },
  {
   "cell_type": "code",
   "execution_count": null,
   "metadata": {},
   "outputs": [],
   "source": [
    "import plotly.express as plt  \n",
    "import matplotlib.pyplot as plt  \n",
    "%matplotlib inline\n",
    "plt.rcParams[\"figure.figsize\"] = [16,9]\n",
    "a.plot(x='Hours', y='Scores', style='o', color='blue', markersize=10)\n",
    "plt.title('Hours vs Percentage')  \n",
    "plt.xlabel('Hours Studied')  \n",
    "plt.ylabel('Percentage Score')  \n",
    "plt.grid()\n",
    "plt.show()"
   ]
  },
  {
   "cell_type": "code",
   "execution_count": null,
   "metadata": {},
   "outputs": [],
   "source": [
    "a= pd.read_csv('Crop_recommendation.csv')\n",
    "# sns.histplot(a['N'], bins=10)\n",
    "a['N'].max()\n",
    "\n"
   ]
  },
  {
   "cell_type": "code",
   "execution_count": null,
   "metadata": {},
   "outputs": [],
   "source": [
    "pip install sklearn"
   ]
  },
  {
   "cell_type": "code",
   "execution_count": null,
   "metadata": {},
   "outputs": [],
   "source": [
    "import plotly.express as px\n",
    "import pandas as pd\n",
    "\n",
    "# Load data from CSV file\n",
    "df = pd.read_csv('Fertilizer Prediction.csv')\n",
    "\n",
    "# Create scatter plot with colored markers based on temperature\n",
    "fig = px.scatter(df, x='Nitrogen', y='Potassium', color='Crop Type', symbol='Fertilizer Name')\n",
    "\n",
    "# Update layout settings\n",
    "fig.update_layout(\n",
    "    title='Fertilizer Prediction',\n",
    "    xaxis_title='N',\n",
    "    yaxis_title='P',\n",
    "    font=dict(\n",
    "        family='Arial',\n",
    "        size=18,\n",
    "        color='black'\n",
    "    ),\n",
    "    legend=dict(\n",
    "        title='Temperature',\n",
    "        font=dict(\n",
    "            family='Arial',\n",
    "            size=14,\n",
    "            color='black'\n",
    "        )\n",
    "    )\n",
    ")\n",
    "\n",
    "# Show plot\n",
    "fig.show()\n"
   ]
  },
  {
   "cell_type": "code",
   "execution_count": null,
   "metadata": {},
   "outputs": [],
   "source": [
    "import folium\n",
    "District_center = [20.5937, 78.9629]\n",
    "m = folium.Map(location=District_center, zoom_start=5)\n",
    "\n",
    "fg = folium.FeatureGroup(name='f_data')\n",
    "    # for _, row in f_data.iterrows():\n",
    "popup_html = f'<table><tr><th>Crop_Name:</th><td>maize</td></tr><tr><th>Acre:</th><td>5 acre</td></tr><tr><th>Lund_size:</th><td>6 acre</td></tr></table>'\n",
    "fg.add_child(folium.Marker(location=[20.5937, 78.9629], popup=popup_html, icon=folium.Icon(color='darkgreen')))\n",
    "m.add_child(fg)\n",
    "\n",
    "m\n"
   ]
  },
  {
   "cell_type": "code",
   "execution_count": null,
   "metadata": {},
   "outputs": [],
   "source": [
    "a= pd.read_csv('Crop_recommendation.csv')\n",
    "a"
   ]
  }
 ],
 "metadata": {
  "kernelspec": {
   "display_name": "Python 3",
   "language": "python",
   "name": "python3"
  },
  "language_info": {
   "codemirror_mode": {
    "name": "ipython",
    "version": 3
   },
   "file_extension": ".py",
   "mimetype": "text/x-python",
   "name": "python",
   "nbconvert_exporter": "python",
   "pygments_lexer": "ipython3",
   "version": "3.11.0"
  },
  "orig_nbformat": 4
 },
 "nbformat": 4,
 "nbformat_minor": 2
}
